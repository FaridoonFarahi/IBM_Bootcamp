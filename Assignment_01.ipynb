{
  "metadata": {
    "kernelspec": {
      "name": "python",
      "display_name": "Python (Pyodide)",
      "language": "python"
    },
    "language_info": {
      "codemirror_mode": {
        "name": "python",
        "version": 3
      },
      "file_extension": ".py",
      "mimetype": "text/x-python",
      "name": "python",
      "nbconvert_exporter": "python",
      "pygments_lexer": "ipython3",
      "version": "3.8"
    }
  },
  "nbformat_minor": 5,
  "nbformat": 4,
  "cells": [
    {
      "id": "e7843b04-ce41-480e-be6d-df3de1febc29",
      "cell_type": "markdown",
      "source": "# Peer-graded Assignment: Submit Your Work and Grade Your Peers",
      "metadata": {}
    },
    {
      "id": "7e65c72f-bc24-482b-a8c0-dede743c7e31",
      "cell_type": "markdown",
      "source": "## In this notebook, Data Science Tools and Ecosystem are summarized.",
      "metadata": {}
    },
    {
      "id": "a0cf55ab-a61e-45bc-a438-6a28af5063a0",
      "cell_type": "markdown",
      "source": "## Data Science Languages\nSome of the popular languages that Data Scientists use are:\n- Python\n- R\n- SQL\n- Julia\n- Scala",
      "metadata": {}
    },
    {
      "id": "06c09a15-0092-4139-b52c-e6b01aa148d0",
      "cell_type": "markdown",
      "source": "## Data Science Libraries\nSome of the commonly used libraries used by Data Scientists include:\n- Pandas\n- NumPy\n- Matplotlib\n- Scikit-learn\n- TensorFlow",
      "metadata": {}
    },
    {
      "id": "324f8581-01d6-4226-b787-4b190ca92369",
      "cell_type": "markdown",
      "source": "## Data Science Tools\n| Tool          | Category          |\n|---------------|-------------------|\n| JupyterLab    | IDE/Notebook      |\n| RStudio       | IDE               |\n| Apache Spark  | Big Data Platform |\n",
      "metadata": {}
    },
    {
      "id": "f21e0f3a-b107-43db-8a85-35f8685e8085",
      "cell_type": "markdown",
      "source": "### Below are a few examples of evaluating arithmetic expressions in Python\n",
      "metadata": {}
    },
    {
      "id": "48ab6988-5bb7-46c7-81c6-9a38cc8dadeb",
      "cell_type": "code",
      "source": "# This is a simple arithmetic expression to multiply then add integers\n(3*4)+5\n",
      "metadata": {
        "trusted": true
      },
      "outputs": [],
      "execution_count": null
    },
    {
      "id": "5d60e95e-57f5-4929-97e1-7a2b6022a5e5",
      "cell_type": "code",
      "source": "# This will convert 200 minutes to hours by dividing by 60\n200/60\n",
      "metadata": {
        "trusted": true
      },
      "outputs": [
        {
          "execution_count": 2,
          "output_type": "execute_result",
          "data": {
            "text/plain": "3.3333333333333335"
          },
          "metadata": {}
        }
      ],
      "execution_count": 2
    },
    {
      "id": "ca0a11aa-e625-49bf-8147-85b0e4c0bbc6",
      "cell_type": "markdown",
      "source": "## Objectives\n- List popular languages for Data Science\n- Introduce commonly used libraries\n- Demonstrate arithmetic operations in Python\n- Show tools used in Data Science\n",
      "metadata": {}
    },
    {
      "id": "1a84f34c-d9d1-40fd-b625-9b7ab6f82024",
      "cell_type": "markdown",
      "source": "## Author\nFaridoon Farahi\n",
      "metadata": {}
    },
    {
      "id": "940b9066-1836-45b1-ae55-e5b36b97e739",
      "cell_type": "code",
      "source": "",
      "metadata": {
        "trusted": true
      },
      "outputs": [],
      "execution_count": null
    }
  ]
}